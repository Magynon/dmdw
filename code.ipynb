{
 "cells": [
  {
   "metadata": {
    "ExecuteTime": {
     "end_time": "2024-11-30T13:11:39.853849Z",
     "start_time": "2024-11-30T13:11:14.560868Z"
    }
   },
   "cell_type": "code",
   "source": [
    "import pandas as pd\n",
    "from transformers import pipeline\n",
    "from sklearn.metrics import classification_report, accuracy_score\n",
    "\n",
    "# Load the CSV file\n",
    "file_path = 'filtered_disneyland_reviews.csv'  # Replace with your actual file path\n",
    "df = pd.read_csv(file_path, encoding=\"cp1252\")\n",
    "\n",
    "# Print the column names and 2 entries\n",
    "print(df.columns)\n",
    "print(df.head(2))"
   ],
   "id": "8fbc769ab59a1042",
   "outputs": [
    {
     "name": "stderr",
     "output_type": "stream",
     "text": [
      "/Library/Python/3.9/site-packages/urllib3/__init__.py:35: NotOpenSSLWarning: urllib3 v2 only supports OpenSSL 1.1.1+, currently the 'ssl' module is compiled with 'LibreSSL 2.8.3'. See: https://github.com/urllib3/urllib3/issues/3020\n",
      "  warnings.warn(\n"
     ]
    },
    {
     "name": "stdout",
     "output_type": "stream",
     "text": [
      "Index(['Review_ID', 'Rating', 'Year_Month', 'Reviewer_Location', 'Review_Text',\n",
      "       'Branch', 'Sentiment'],\n",
      "      dtype='object')\n",
      "   Review_ID  Rating Year_Month     Reviewer_Location  \\\n",
      "0  405542484       1     2016-4  United Arab Emirates   \n",
      "1  609006793       1     2018-8        United Kingdom   \n",
      "\n",
      "                                         Review_Text            Branch  \\\n",
      "0  Being a lover of all things Disney, I was so e...  Disneyland_Paris   \n",
      "1  I'm a huge Disney fan! I love all things Disne...  Disneyland_Paris   \n",
      "\n",
      "   Sentiment  \n",
      "0          0  \n",
      "1          0  \n"
     ]
    }
   ],
   "execution_count": 1
  },
  {
   "metadata": {
    "ExecuteTime": {
     "end_time": "2024-11-30T13:11:45.636222Z",
     "start_time": "2024-11-30T13:11:45.627113Z"
    }
   },
   "cell_type": "code",
   "source": [
    "# Ensure the column containing reviews exists\n",
    "review_column = 'Review_Text'  # Replace with the actual column name for reviews\n",
    "rating_column = 'Rating'  # Replace with the actual column name for ratings\n",
    "if review_column not in df.columns or rating_column not in df.columns:\n",
    "    raise ValueError(f\"Columns '{review_column}' and '{rating_column}' must be in the CSV file.\")\n",
    "\n",
    "\n",
    "df = df.dropna(subset=[review_column, rating_column])\n",
    "print(df.head(2))"
   ],
   "id": "55b90c4541a3c747",
   "outputs": [
    {
     "name": "stdout",
     "output_type": "stream",
     "text": [
      "   Review_ID  Rating Year_Month     Reviewer_Location  \\\n",
      "0  405542484       1     2016-4  United Arab Emirates   \n",
      "1  609006793       1     2018-8        United Kingdom   \n",
      "\n",
      "                                         Review_Text            Branch  \\\n",
      "0  Being a lover of all things Disney, I was so e...  Disneyland_Paris   \n",
      "1  I'm a huge Disney fan! I love all things Disne...  Disneyland_Paris   \n",
      "\n",
      "   Sentiment  \n",
      "0          0  \n",
      "1          0  \n"
     ]
    }
   ],
   "execution_count": 2
  },
  {
   "metadata": {
    "ExecuteTime": {
     "end_time": "2024-11-30T13:11:48.333896Z",
     "start_time": "2024-11-30T13:11:48.323781Z"
    }
   },
   "cell_type": "code",
   "source": [
    "# Sanitize the review text\n",
    "df[review_column] = df[review_column].str.replace('\\n', ' ').str.replace('\\r', ' ').str.strip()\n",
    "print(df.head(2))"
   ],
   "id": "55a51277fa38215d",
   "outputs": [
    {
     "name": "stdout",
     "output_type": "stream",
     "text": [
      "   Review_ID  Rating Year_Month     Reviewer_Location  \\\n",
      "0  405542484       1     2016-4  United Arab Emirates   \n",
      "1  609006793       1     2018-8        United Kingdom   \n",
      "\n",
      "                                         Review_Text            Branch  \\\n",
      "0  Being a lover of all things Disney, I was so e...  Disneyland_Paris   \n",
      "1  I'm a huge Disney fan! I love all things Disne...  Disneyland_Paris   \n",
      "\n",
      "   Sentiment  \n",
      "0          0  \n",
      "1          0  \n"
     ]
    }
   ],
   "execution_count": 3
  },
  {
   "metadata": {
    "ExecuteTime": {
     "end_time": "2024-11-30T13:11:51.529001Z",
     "start_time": "2024-11-30T13:11:50.311518Z"
    }
   },
   "cell_type": "code",
   "source": [
    "min_rating = df[rating_column].min()\n",
    "max_rating = df[rating_column].max()\n",
    "print(f\"Rating ranges from {min_rating} to {max_rating}.\")\n",
    "\n",
    "# Define a threshold: Assume ratings >= 3 are POSITIVE, < 3 are NEGATIVE\n",
    "median_rating = 3\n",
    "df['Sentiment'] = df[rating_column].apply(lambda x: 'POSITIVE' if x >= median_rating else 'NEGATIVE')\n",
    "\n",
    "# Print the distribution of sentiments\n",
    "print(f\"Median rating: {median_rating}\")\n",
    "print(df['Sentiment'].value_counts())\n",
    "\n",
    "import matplotlib.pyplot as plt\n",
    "df[rating_column].hist(bins=5)  # Adjust the number of bins if needed\n",
    "plt.title(\"Rating Distribution\")\n",
    "plt.xlabel(\"Rating\")\n",
    "plt.ylabel(\"Frequency\")\n",
    "plt.show()"
   ],
   "id": "99c3bb9658ab45e8",
   "outputs": [
    {
     "name": "stdout",
     "output_type": "stream",
     "text": [
      "Rating ranges from 1 to 5.\n",
      "Median rating: 3\n",
      "Sentiment\n",
      "NEGATIVE    3626\n",
      "POSITIVE    3626\n",
      "Name: count, dtype: int64\n"
     ]
    },
    {
     "data": {
      "text/plain": [
       "<Figure size 640x480 with 1 Axes>"
      ],
      "image/png": "[encoded data removed]"
     },
     "metadata": {},
     "output_type": "display_data"
    }
   ],
   "execution_count": 4
  },
  {
   "metadata": {
    "ExecuteTime": {
     "end_time": "2024-11-30T13:11:57.380905Z",
     "start_time": "2024-11-30T13:11:55.285785Z"
    }
   },
   "cell_type": "code",
   "source": [
    "# %pip install tensorflow\n",
    "# %pip install tf-keras\n",
    "# %pip install tiktoken\n",
    "\n",
    "# Initialize pipelines correctly for both models\n",
    "distilbert_pipeline = pipeline(\"sentiment-analysis\", model=\"./distilbert_finetuned_model\")\n",
    "deberta_pipeline = pipeline(\"sentiment-analysis\", model=\"./deberta_finetuned_model\")\n",
    "\n",
    "label_mapping = {\n",
    "    \"LABEL_0\": \"NEGATIVE\",\n",
    "    \"LABEL_1\": \"POSITIVE\"\n",
    "}\n",
    "\n",
    "# Analyze sentiments function\n",
    "def analyze_sentiments(pipeline, reviews):\n",
    "    return [label_mapping[pipeline(review)[0]['label']] for review in reviews]\n",
    "\n",
    "test_size = df.shape[0] * 0.2  # 20% of the data for testing\n",
    "print(f\"Testing on {test_size} samples.\")\n",
    "\n",
    "# Get reviews and true sentiment labels and stick to 20% rows for testing\n",
    "reviews = df[review_column].tolist()[int(-test_size):]\n",
    "true_labels = df['Sentiment'].tolist()[int(-test_size):]\n",
    "\n",
    "# print the number of positive and negative reviews\n",
    "print(f\"Positive reviews: {true_labels.count('POSITIVE')}\")\n",
    "print(f\"Negative reviews: {true_labels.count('NEGATIVE')}\")\n",
    "\n",
    "# truncate reviews to 512 tokens\n",
    "reviews = [review[:512] for review in reviews]"
   ],
   "id": "a172bd92383b0fe6",
   "outputs": [
    {
     "name": "stderr",
     "output_type": "stream",
     "text": [
      "Hardware accelerator e.g. GPU is available in the environment, but no `device` argument is passed to the `Pipeline` object. Model will be on CPU.\n",
      "/Users/stefanmagirescu/Documents/master/SEM 1 sem 1/DMDW/code/.venv/lib/python3.9/site-packages/transformers/convert_slow_tokenizer.py:561: UserWarning: The sentencepiece tokenizer that you are converting to a fast tokenizer uses the byte fallback option which is not implemented in the fast tokenizers. In practice this means that the fast version of the tokenizer can produce unknown tokens whereas the sentencepiece version would have converted these unknown tokens into a sequence of byte tokens matching the original piece of text.\n",
      "  warnings.warn(\n",
      "Hardware accelerator e.g. GPU is available in the environment, but no `device` argument is passed to the `Pipeline` object. Model will be on CPU.\n"
     ]
    },
    {
     "name": "stdout",
     "output_type": "stream",
     "text": [
      "Testing on 1450.4 samples.\n",
      "Positive reviews: 712\n",
      "Negative reviews: 738\n"
     ]
    }
   ],
   "execution_count": 5
  },
  {
   "metadata": {
    "ExecuteTime": {
     "end_time": "2024-11-30T13:12:29.950184Z",
     "start_time": "2024-11-30T13:12:01.267676Z"
    }
   },
   "cell_type": "code",
   "source": [
    "# DistilBERT predictions\n",
    "distilbert_predictions = analyze_sentiments(distilbert_pipeline, reviews)"
   ],
   "id": "cd9a7248dacfaa7f",
   "outputs": [],
   "execution_count": 6
  },
  {
   "metadata": {
    "ExecuteTime": {
     "end_time": "2024-11-30T13:13:16.556610Z",
     "start_time": "2024-11-30T13:12:34.224440Z"
    }
   },
   "cell_type": "code",
   "source": [
    "# DeBERTa predictions\n",
    "deberta_predictions = analyze_sentiments(deberta_pipeline, reviews)"
   ],
   "id": "44806dca06575cac",
   "outputs": [],
   "execution_count": 7
  },
  {
   "metadata": {
    "ExecuteTime": {
     "end_time": "2024-11-30T13:13:19.696168Z",
     "start_time": "2024-11-30T13:13:19.641105Z"
    }
   },
   "cell_type": "code",
   "source": [
    "# Step 6: Evaluate using scikit-learn metrics\n",
    "print(\"DistilBERT Metrics:\")\n",
    "print(classification_report(true_labels, distilbert_predictions))\n",
    "print(f\"Accuracy: {accuracy_score(true_labels, distilbert_predictions):.4f}\\n\")\n",
    "\n",
    "print(\"DeBERTa Metrics:\")\n",
    "print(classification_report(true_labels, deberta_predictions))\n",
    "print(f\"Accuracy: {accuracy_score(true_labels, deberta_predictions):.4f}\\n\")\n",
    "\n",
    "# Save results to CSV for further analysis\n",
    "shortened = pd.DataFrame({\n",
    "    'True_Sentiment': true_labels,\n",
    "    'DistilBERT_Sentiment': distilbert_predictions,\n",
    "    'DeBERTa_Sentiment': deberta_predictions,\n",
    "    'Review': reviews\n",
    "})\n",
    "shortened.to_csv(\"./sentiment_analysis_comparison.csv\", index=False)\n",
    "print(\"Results saved to sentiment_analysis_comparison.csv\")"
   ],
   "id": "21ca19c689608768",
   "outputs": [
    {
     "name": "stdout",
     "output_type": "stream",
     "text": [
      "DistilBERT Metrics:\n",
      "              precision    recall  f1-score   support\n",
      "\n",
      "    NEGATIVE       0.95      0.93      0.94       738\n",
      "    POSITIVE       0.93      0.95      0.94       712\n",
      "\n",
      "    accuracy                           0.94      1450\n",
      "   macro avg       0.94      0.94      0.94      1450\n",
      "weighted avg       0.94      0.94      0.94      1450\n",
      "\n",
      "Accuracy: 0.9379\n",
      "\n",
      "DeBERTa Metrics:\n",
      "              precision    recall  f1-score   support\n",
      "\n",
      "    NEGATIVE       0.94      0.77      0.85       738\n",
      "    POSITIVE       0.80      0.95      0.87       712\n",
      "\n",
      "    accuracy                           0.86      1450\n",
      "   macro avg       0.87      0.86      0.86      1450\n",
      "weighted avg       0.87      0.86      0.86      1450\n",
      "\n",
      "Accuracy: 0.8586\n",
      "\n",
      "Results saved to sentiment_analysis_comparison.csv\n"
     ]
    }
   ],
   "execution_count": 8
  },
  {
   "metadata": {},
   "cell_type": "code",
   "outputs": [],
   "execution_count": null,
   "source": "",
   "id": "588a8d91f049de12"
  }
 ],
 "metadata": {
  "kernelspec": {
   "display_name": "Python 3",
   "language": "python",
   "name": "python3"
  },
  "language_info": {
   "codemirror_mode": {
    "name": "ipython",
    "version": 2
   },
   "file_extension": ".py",
   "mimetype": "text/x-python",
   "name": "python",
   "nbconvert_exporter": "python",
   "pygments_lexer": "ipython2",
   "version": "2.7.6"
  }
 },
 "nbformat": 4,
 "nbformat_minor": 5
}
